{
 "cells": [
  {
   "cell_type": "code",
   "execution_count": 3,
   "metadata": {},
   "outputs": [],
   "source": [
    "import os\n",
    "\n",
    "import ppxf"
   ]
  },
  {
   "cell_type": "markdown",
   "metadata": {},
   "source": [
    "### Verification of models in pPXF"
   ]
  },
  {
   "cell_type": "code",
   "execution_count": 4,
   "metadata": {},
   "outputs": [],
   "source": [
    "ppxf_dir = os.path.split(ppxf.__file__)[0]\n",
    "miles_dir = os.path.join(ppxf_dir, \"miles_models\")"
   ]
  },
  {
   "cell_type": "code",
   "execution_count": 5,
   "metadata": {},
   "outputs": [],
   "source": [
    "miles_models = [_ for _ in os.listdir(miles_dir) if _.startswith(\"Mun\")]"
   ]
  },
  {
   "cell_type": "code",
   "execution_count": 6,
   "metadata": {},
   "outputs": [
    {
     "data": {
      "text/plain": [
       "['Mun1.30Zp0.00T00.7943_iPp0.00_baseFe_linear_FWHM_2.51.fits',\n",
       " 'Mun1.30Zm1.31T00.3981_iPp0.00_baseFe_linear_FWHM_2.51.fits',\n",
       " 'Mun1.30Zm0.71T01.0000_iPp0.00_baseFe_linear_FWHM_2.51.fits',\n",
       " 'Mun1.30Zp0.22T00.2512_iPp0.00_baseFe_linear_FWHM_2.51.fits',\n",
       " 'Mun1.30Zp0.22T15.8489_iPp0.00_baseFe_linear_FWHM_2.51.fits',\n",
       " 'Mun1.30Zm0.40T01.9953_iPp0.00_baseFe_linear_FWHM_2.51.fits',\n",
       " 'Mun1.30Zm1.71T00.1585_iPp0.00_baseFe_linear_FWHM_2.51.fits',\n",
       " 'Mun1.30Zm0.40T01.5849_iPp0.00_baseFe_linear_FWHM_2.51.fits',\n",
       " 'Mun1.30Zm1.31T00.1000_iPp0.00_baseFe_linear_FWHM_2.51.fits',\n",
       " 'Mun1.30Zp0.22T01.0000_iPp0.00_baseFe_linear_FWHM_2.51.fits']"
      ]
     },
     "execution_count": 6,
     "metadata": {},
     "output_type": "execute_result"
    }
   ],
   "source": [
    "miles_models[:10]"
   ]
  },
  {
   "cell_type": "markdown",
   "metadata": {},
   "source": [
    "In the Miles models, we can infer the type of models using the [SEDs name convention](http://research.iac.es/proyecto/miles/pages/ssp-models/name-convention.php). In particular, we understand that the models that come with pPXF have the Miles spectral range, unimodel IMF with log slope of -1.3 (Mun1.30...). We can also see that it has a metallicity Z=0 in the first file, so so it has Padova isochrone. Now, the particular set of ages and metallicities can be infered by inspecting the name of all the files used."
   ]
  },
  {
   "cell_type": "code",
   "execution_count": 7,
   "metadata": {},
   "outputs": [
    {
     "data": {
      "text/plain": [
       "150"
      ]
     },
     "execution_count": 7,
     "metadata": {},
     "output_type": "execute_result"
    }
   ],
   "source": [
    "len(miles_models)"
   ]
  },
  {
   "cell_type": "code",
   "execution_count": 8,
   "metadata": {},
   "outputs": [
    {
     "data": {
      "text/plain": [
       "{-1.71, -1.31, -0.71, -0.4, 0.0, 0.22}"
      ]
     },
     "execution_count": 8,
     "metadata": {},
     "output_type": "execute_result"
    }
   ],
   "source": [
    "Zs = set([float(_.split(\"Z\")[1].split(\"T\")[0].replace(\"m\", \"-\").replace(\"p\", \"+\")) for _ in miles_models])\n",
    "Zs"
   ]
  },
  {
   "cell_type": "code",
   "execution_count": 9,
   "metadata": {},
   "outputs": [
    {
     "name": "stdout",
     "output_type": "stream",
     "text": [
      "Number of ages in grid:  25\n",
      "0.0631 15.8489\n"
     ]
    }
   ],
   "source": [
    "Ts = set([float(_.split(\"T\")[1].split(\"_iP\")[0]) for _ in miles_models])\n",
    "print(\"Number of ages in grid: \", len(Ts))\n",
    "print(min(Ts), max(Ts))"
   ]
  },
  {
   "cell_type": "markdown",
   "metadata": {},
   "source": [
    "So, the models assume 25 different ages and 6 metallicities, resulting in 150 models. \n",
    "\n",
    "### Changing the stellar population models to BaSTI isochrones\n",
    "\n",
    "If we are interested in [alpha/Fe], we should use models that are produced with BaSTI isochrones, as they provide models with [alpha/Fe]=0.0 and [alpha/Fe]=0.4 (all models from Padova have solar alpha-abundance). Miles models can be obtained directly from the [tune SSP models](http://research.iac.es/proyecto/miles/pages/webtools/tune-ssp-models.php). From this website, we see that BaSTI have a larger grid of models: 12 metallicities, 53 ages and 3 alpha-element abundances (Ep0.00 and Ep0.40, ignore base models). "
   ]
  },
  {
   "cell_type": "code",
   "execution_count": 10,
   "metadata": {},
   "outputs": [
    {
     "data": {
      "text/plain": [
       "1272"
      ]
     },
     "execution_count": 10,
     "metadata": {},
     "output_type": "execute_result"
    }
   ],
   "source": [
    "n_models = 12 * 53 * 2\n",
    "n_models"
   ]
  },
  {
   "cell_type": "markdown",
   "metadata": {},
   "source": [
    "To replace the models in pPXF, you can simply download the models using the link above, unpack the spectra in any directory, and point out the Python code to that location instead of the miles_dir above. The same models can be used with paintbox.\n",
    "\n",
    "In theory, pPXF could use all models to get the solution, but it may take a while to run (even without REGUL, which I believe should always be turned off in practice). So, at least to develop you code, you could simply use half the metallicities and ages (in a way that you keep the largest metallicity and age), which won't make your performance with pPXF much worse than your current code."
   ]
  },
  {
   "cell_type": "code",
   "execution_count": 12,
   "metadata": {},
   "outputs": [
    {
     "data": {
      "text/plain": [
       "324"
      ]
     },
     "execution_count": 12,
     "metadata": {},
     "output_type": "execute_result"
    }
   ],
   "source": [
    "n_models_dev = 6 * 27 * 2\n",
    "n_models_dev"
   ]
  },
  {
   "cell_type": "markdown",
   "metadata": {},
   "source": [
    "To obtain estimates of ages, metallicities and alpha/Fe, you will need to adapt Cappellari's code to handle the names of the models correctly, get the weights of the fit and obtain averages. This is done in the pPXF tutorial, you only need to add another dimension to the estimates. "
   ]
  },
  {
   "cell_type": "markdown",
   "metadata": {},
   "source": []
  }
 ],
 "metadata": {
  "interpreter": {
   "hash": "afaa66d9f95620f9500b6b9e7bf04ce9d858f75acd46c718dd368c59599e30e6"
  },
  "kernelspec": {
   "display_name": "Python 3.7.0 ('py37')",
   "language": "python",
   "name": "python3"
  },
  "language_info": {
   "codemirror_mode": {
    "name": "ipython",
    "version": 3
   },
   "file_extension": ".py",
   "mimetype": "text/x-python",
   "name": "python",
   "nbconvert_exporter": "python",
   "pygments_lexer": "ipython3",
   "version": "3.7.0"
  },
  "orig_nbformat": 4
 },
 "nbformat": 4,
 "nbformat_minor": 2
}
